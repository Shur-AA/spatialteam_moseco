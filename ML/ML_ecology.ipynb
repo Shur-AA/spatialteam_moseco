{
 "cells": [
  {
   "cell_type": "code",
   "execution_count": 1,
   "id": "3c873edc",
   "metadata": {},
   "outputs": [],
   "source": [
    "import pandas as pd\n",
    "import numpy as np\n",
    "import matplotlib.pyplot as plt\n",
    "\n",
    "from sklearn.preprocessing import StandardScaler \n",
    "\n",
    "from sklearn.model_selection import train_test_split\n",
    "\n",
    "from sklearn.metrics import mean_absolute_error\n",
    "\n",
    "from sklearn.linear_model import LinearRegression\n",
    "\n",
    "from sklearn.ensemble import RandomForestRegressor"
   ]
  },
  {
   "cell_type": "code",
   "execution_count": 2,
   "id": "68ef9105",
   "metadata": {},
   "outputs": [
    {
     "data": {
      "text/html": [
       "<div>\n",
       "<style scoped>\n",
       "    .dataframe tbody tr th:only-of-type {\n",
       "        vertical-align: middle;\n",
       "    }\n",
       "\n",
       "    .dataframe tbody tr th {\n",
       "        vertical-align: top;\n",
       "    }\n",
       "\n",
       "    .dataframe thead th {\n",
       "        text-align: right;\n",
       "    }\n",
       "</style>\n",
       "<table border=\"1\" class=\"dataframe\">\n",
       "  <thead>\n",
       "    <tr style=\"text-align: right;\">\n",
       "      <th></th>\n",
       "      <th>CO</th>\n",
       "      <th>NO2</th>\n",
       "      <th>NO</th>\n",
       "      <th>PM10</th>\n",
       "      <th>PM25</th>\n",
       "      <th>T</th>\n",
       "      <th>V1</th>\n",
       "      <th>V2</th>\n",
       "      <th>Pressure</th>\n",
       "      <th>Humidity</th>\n",
       "      <th>Precipitation</th>\n",
       "      <th>Inversion</th>\n",
       "    </tr>\n",
       "    <tr>\n",
       "      <th>Дата и время</th>\n",
       "      <th></th>\n",
       "      <th></th>\n",
       "      <th></th>\n",
       "      <th></th>\n",
       "      <th></th>\n",
       "      <th></th>\n",
       "      <th></th>\n",
       "      <th></th>\n",
       "      <th></th>\n",
       "      <th></th>\n",
       "      <th></th>\n",
       "      <th></th>\n",
       "    </tr>\n",
       "  </thead>\n",
       "  <tbody>\n",
       "    <tr>\n",
       "      <th>2020-01-01 00:00:00</th>\n",
       "      <td>0.2</td>\n",
       "      <td>0.024</td>\n",
       "      <td>0.001</td>\n",
       "      <td>0.010</td>\n",
       "      <td>0.008</td>\n",
       "      <td>2.5</td>\n",
       "      <td>0.4</td>\n",
       "      <td>234.0</td>\n",
       "      <td>732.4</td>\n",
       "      <td>97.0</td>\n",
       "      <td>0.0</td>\n",
       "      <td>1.0</td>\n",
       "    </tr>\n",
       "    <tr>\n",
       "      <th>2020-01-01 00:20:00</th>\n",
       "      <td>0.2</td>\n",
       "      <td>0.024</td>\n",
       "      <td>0.001</td>\n",
       "      <td>0.011</td>\n",
       "      <td>0.011</td>\n",
       "      <td>2.6</td>\n",
       "      <td>0.5</td>\n",
       "      <td>0.0</td>\n",
       "      <td>732.4</td>\n",
       "      <td>97.0</td>\n",
       "      <td>0.0</td>\n",
       "      <td>1.0</td>\n",
       "    </tr>\n",
       "    <tr>\n",
       "      <th>2020-01-01 00:40:00</th>\n",
       "      <td>0.2</td>\n",
       "      <td>0.024</td>\n",
       "      <td>0.001</td>\n",
       "      <td>0.011</td>\n",
       "      <td>0.012</td>\n",
       "      <td>2.6</td>\n",
       "      <td>0.4</td>\n",
       "      <td>230.0</td>\n",
       "      <td>732.5</td>\n",
       "      <td>97.0</td>\n",
       "      <td>0.0</td>\n",
       "      <td>1.0</td>\n",
       "    </tr>\n",
       "    <tr>\n",
       "      <th>2020-01-01 01:00:00</th>\n",
       "      <td>0.1</td>\n",
       "      <td>0.024</td>\n",
       "      <td>0.001</td>\n",
       "      <td>0.013</td>\n",
       "      <td>0.012</td>\n",
       "      <td>2.7</td>\n",
       "      <td>0.4</td>\n",
       "      <td>212.0</td>\n",
       "      <td>732.6</td>\n",
       "      <td>96.5</td>\n",
       "      <td>0.0</td>\n",
       "      <td>1.0</td>\n",
       "    </tr>\n",
       "    <tr>\n",
       "      <th>2020-01-01 01:20:00</th>\n",
       "      <td>0.1</td>\n",
       "      <td>0.025</td>\n",
       "      <td>0.001</td>\n",
       "      <td>0.017</td>\n",
       "      <td>0.016</td>\n",
       "      <td>2.7</td>\n",
       "      <td>0.4</td>\n",
       "      <td>226.0</td>\n",
       "      <td>732.7</td>\n",
       "      <td>96.0</td>\n",
       "      <td>0.0</td>\n",
       "      <td>1.0</td>\n",
       "    </tr>\n",
       "    <tr>\n",
       "      <th>...</th>\n",
       "      <td>...</td>\n",
       "      <td>...</td>\n",
       "      <td>...</td>\n",
       "      <td>...</td>\n",
       "      <td>...</td>\n",
       "      <td>...</td>\n",
       "      <td>...</td>\n",
       "      <td>...</td>\n",
       "      <td>...</td>\n",
       "      <td>...</td>\n",
       "      <td>...</td>\n",
       "      <td>...</td>\n",
       "    </tr>\n",
       "    <tr>\n",
       "      <th>2020-12-31 22:20:00</th>\n",
       "      <td>0.1</td>\n",
       "      <td>0.028</td>\n",
       "      <td>0.004</td>\n",
       "      <td>0.023</td>\n",
       "      <td>0.019</td>\n",
       "      <td>-0.2</td>\n",
       "      <td>1.2</td>\n",
       "      <td>0.0</td>\n",
       "      <td>749.7</td>\n",
       "      <td>95.0</td>\n",
       "      <td>0.0</td>\n",
       "      <td>0.0</td>\n",
       "    </tr>\n",
       "    <tr>\n",
       "      <th>2020-12-31 22:40:00</th>\n",
       "      <td>0.1</td>\n",
       "      <td>0.025</td>\n",
       "      <td>0.003</td>\n",
       "      <td>0.023</td>\n",
       "      <td>0.013</td>\n",
       "      <td>-0.4</td>\n",
       "      <td>0.6</td>\n",
       "      <td>91.0</td>\n",
       "      <td>749.9</td>\n",
       "      <td>95.3</td>\n",
       "      <td>0.0</td>\n",
       "      <td>0.0</td>\n",
       "    </tr>\n",
       "    <tr>\n",
       "      <th>2020-12-31 23:00:00</th>\n",
       "      <td>0.1</td>\n",
       "      <td>0.025</td>\n",
       "      <td>0.003</td>\n",
       "      <td>0.024</td>\n",
       "      <td>0.015</td>\n",
       "      <td>-0.5</td>\n",
       "      <td>0.9</td>\n",
       "      <td>0.0</td>\n",
       "      <td>749.9</td>\n",
       "      <td>95.0</td>\n",
       "      <td>0.0</td>\n",
       "      <td>0.0</td>\n",
       "    </tr>\n",
       "    <tr>\n",
       "      <th>2020-12-31 23:20:00</th>\n",
       "      <td>0.1</td>\n",
       "      <td>0.025</td>\n",
       "      <td>0.003</td>\n",
       "      <td>0.025</td>\n",
       "      <td>0.019</td>\n",
       "      <td>-0.7</td>\n",
       "      <td>1.1</td>\n",
       "      <td>67.0</td>\n",
       "      <td>749.9</td>\n",
       "      <td>95.0</td>\n",
       "      <td>0.0</td>\n",
       "      <td>0.0</td>\n",
       "    </tr>\n",
       "    <tr>\n",
       "      <th>2020-12-31 23:40:00</th>\n",
       "      <td>0.1</td>\n",
       "      <td>0.024</td>\n",
       "      <td>0.003</td>\n",
       "      <td>0.027</td>\n",
       "      <td>0.017</td>\n",
       "      <td>-0.8</td>\n",
       "      <td>0.9</td>\n",
       "      <td>72.0</td>\n",
       "      <td>749.9</td>\n",
       "      <td>95.2</td>\n",
       "      <td>0.0</td>\n",
       "      <td>0.0</td>\n",
       "    </tr>\n",
       "  </tbody>\n",
       "</table>\n",
       "<p>26352 rows × 12 columns</p>\n",
       "</div>"
      ],
      "text/plain": [
       "                      CO    NO2     NO   PM10   PM25    T   V1     V2  \\\n",
       "Дата и время                                                            \n",
       "2020-01-01 00:00:00  0.2  0.024  0.001  0.010  0.008  2.5  0.4  234.0   \n",
       "2020-01-01 00:20:00  0.2  0.024  0.001  0.011  0.011  2.6  0.5    0.0   \n",
       "2020-01-01 00:40:00  0.2  0.024  0.001  0.011  0.012  2.6  0.4  230.0   \n",
       "2020-01-01 01:00:00  0.1  0.024  0.001  0.013  0.012  2.7  0.4  212.0   \n",
       "2020-01-01 01:20:00  0.1  0.025  0.001  0.017  0.016  2.7  0.4  226.0   \n",
       "...                  ...    ...    ...    ...    ...  ...  ...    ...   \n",
       "2020-12-31 22:20:00  0.1  0.028  0.004  0.023  0.019 -0.2  1.2    0.0   \n",
       "2020-12-31 22:40:00  0.1  0.025  0.003  0.023  0.013 -0.4  0.6   91.0   \n",
       "2020-12-31 23:00:00  0.1  0.025  0.003  0.024  0.015 -0.5  0.9    0.0   \n",
       "2020-12-31 23:20:00  0.1  0.025  0.003  0.025  0.019 -0.7  1.1   67.0   \n",
       "2020-12-31 23:40:00  0.1  0.024  0.003  0.027  0.017 -0.8  0.9   72.0   \n",
       "\n",
       "                     Pressure  Humidity  Precipitation  Inversion  \n",
       "Дата и время                                                       \n",
       "2020-01-01 00:00:00     732.4      97.0            0.0        1.0  \n",
       "2020-01-01 00:20:00     732.4      97.0            0.0        1.0  \n",
       "2020-01-01 00:40:00     732.5      97.0            0.0        1.0  \n",
       "2020-01-01 01:00:00     732.6      96.5            0.0        1.0  \n",
       "2020-01-01 01:20:00     732.7      96.0            0.0        1.0  \n",
       "...                       ...       ...            ...        ...  \n",
       "2020-12-31 22:20:00     749.7      95.0            0.0        0.0  \n",
       "2020-12-31 22:40:00     749.9      95.3            0.0        0.0  \n",
       "2020-12-31 23:00:00     749.9      95.0            0.0        0.0  \n",
       "2020-12-31 23:20:00     749.9      95.0            0.0        0.0  \n",
       "2020-12-31 23:40:00     749.9      95.2            0.0        0.0  \n",
       "\n",
       "[26352 rows x 12 columns]"
      ]
     },
     "execution_count": 2,
     "metadata": {},
     "output_type": "execute_result"
    }
   ],
   "source": [
    "df = pd.read_excel('C:/Work/test/Spirid2020.xlsx', index_col=[0], skiprows=[1], engine = 'openpyxl')\n",
    "df.sort_index(inplace=True)\n",
    "df = df.drop(['Unnamed: 6', 'Unnamed: 14', 'Unnamed: 15', 'Unnamed: 16', 'Unnamed: 17', 'Unnamed: 18', \n",
    "                'Unnamed: 19', 'Unnamed: 20', 'Unnamed: 21'], axis=1)\n",
    "df.columns = ['CO', 'NO2', 'NO', 'PM10', 'PM25', 'T', 'V1', 'V2', 'Pressure', 'Humidity', 'Precipitation', 'Inversion'] \n",
    "\n",
    "df"
   ]
  },
  {
   "cell_type": "code",
   "execution_count": 3,
   "id": "f2173b07",
   "metadata": {},
   "outputs": [],
   "source": [
    "df.index = pd.to_datetime(df.index, format='%d/%m/%Y %H:%M')"
   ]
  },
  {
   "cell_type": "code",
   "execution_count": 4,
   "id": "e2f7f08e",
   "metadata": {},
   "outputs": [],
   "source": [
    "#ресемплирование до 1 часа\n",
    "df = df.resample('1H').mean()  "
   ]
  },
  {
   "cell_type": "markdown",
   "id": "7166abe0",
   "metadata": {},
   "source": [
    "## Анализ стационарности временных рядов \n",
    "Оценим, являются ли выбранные для прогноза временные ряды (концентрации CO, NO2, NO в воздухе) стационарными. Размер окна выберем равным 24 для учета концентраций в течение суток. Графики ниже показывают, что ряды являются стационарными, соответственно, можем их использовать для прогноза"
   ]
  },
  {
   "cell_type": "code",
   "execution_count": 5,
   "id": "af75eeed",
   "metadata": {},
   "outputs": [],
   "source": [
    "df2 = df.copy()"
   ]
  },
  {
   "cell_type": "code",
   "execution_count": 6,
   "id": "75b85262",
   "metadata": {},
   "outputs": [
    {
     "data": {
      "image/png": "[encoded data removed]",
      "text/plain": [
       "<Figure size 432x288 with 1 Axes>"
      ]
     },
     "metadata": {
      "needs_background": "light"
     },
     "output_type": "display_data"
    }
   ],
   "source": [
    "df2['CO_mean'] = df2['CO'].rolling(24).mean()\n",
    "df2['CO_std'] = df2['CO'].rolling(24).std()\n",
    "df2['CO'].plot() \n",
    "df2['CO_mean'].plot() \n",
    "df2['CO_std'].plot() \n",
    "plt.title('Среднее значение CO')\n",
    "plt.show()"
   ]
  },
  {
   "cell_type": "code",
   "execution_count": 7,
   "id": "cad0f486",
   "metadata": {},
   "outputs": [
    {
     "data": {
      "image/png": "[encoded data removed]",
      "text/plain": [
       "<Figure size 432x288 with 1 Axes>"
      ]
     },
     "metadata": {
      "needs_background": "light"
     },
     "output_type": "display_data"
    }
   ],
   "source": [
    "df2['NO2_mean'] = df2['NO2'].rolling(24).mean()\n",
    "df2['NO2_std'] = df2['NO2'].rolling(24).std()\n",
    "df2['NO2'].plot() \n",
    "df2['NO2_mean'].plot() \n",
    "df2['NO2_std'].plot() \n",
    "plt.title('Среднее значение NO2')\n",
    "plt.show()"
   ]
  },
  {
   "cell_type": "code",
   "execution_count": 8,
   "id": "b7c5dc80",
   "metadata": {},
   "outputs": [
    {
     "data": {
      "image/png": "[encoded data removed]",
      "text/plain": [
       "<Figure size 432x288 with 1 Axes>"
      ]
     },
     "metadata": {
      "needs_background": "light"
     },
     "output_type": "display_data"
    }
   ],
   "source": [
    "df2['CO_mean'] = df2['CO'].rolling(24).mean()\n",
    "df2['CO_std'] = df2['CO'].rolling(24).std()\n",
    "df2['CO'].plot() \n",
    "df2['CO_mean'].plot() \n",
    "df2['CO_std'].plot() \n",
    "plt.title('Среднее значение NO')\n",
    "plt.show()"
   ]
  },
  {
   "cell_type": "markdown",
   "id": "2314210e",
   "metadata": {},
   "source": [
    "## Подготовка обучающей, валидационной и тестовой выборок"
   ]
  },
  {
   "cell_type": "code",
   "execution_count": 9,
   "id": "60e1976a",
   "metadata": {},
   "outputs": [],
   "source": [
    "#функция для создания признаков для прогноза CO\n",
    "def make_features_CO(df, max_lag, rolling_mean_size):\n",
    "    df['month'] = df.index.month\n",
    "    df['day'] = df.index.day\n",
    "    df['dayofweek'] = df.index.dayofweek\n",
    "    df['hour'] = df.index.hour\n",
    "           \n",
    "    \n",
    "    for lag in range(1, max_lag + 1):\n",
    "        df['lag_{}'.format(lag)] = df['CO'].shift(lag)\n",
    "\n",
    "    df['rolling_mean'] = df['CO'].shift().rolling(rolling_mean_size).mean()"
   ]
  },
  {
   "cell_type": "code",
   "execution_count": 10,
   "id": "61856291",
   "metadata": {},
   "outputs": [],
   "source": [
    "#функция для создания признаков для прогноза NO2\n",
    "def make_features_NO2(df, max_lag, rolling_mean_size):\n",
    "    df['month'] = df.index.month\n",
    "    df['day'] = df.index.day\n",
    "    df['dayofweek'] = df.index.dayofweek\n",
    "    df['hour'] = df.index.hour\n",
    "       \n",
    "   \n",
    "    for lag in range(1, max_lag + 1):\n",
    "        df['lag_{}'.format(lag)] = df['NO2'].shift(lag)\n",
    "\n",
    "    df['rolling_mean'] = df['NO2'].shift().rolling(rolling_mean_size).mean()"
   ]
  },
  {
   "cell_type": "code",
   "execution_count": 11,
   "id": "cbe5c3d8",
   "metadata": {},
   "outputs": [],
   "source": [
    "#функция для создания признаков для прогноза NO\n",
    "def make_features_NO(df, max_lag, rolling_mean_size):\n",
    "    df['month'] = df.index.month\n",
    "    df['day'] = df.index.day\n",
    "    df['dayofweek'] = df.index.dayofweek\n",
    "    df['hour'] = df.index.hour\n",
    "           \n",
    "    \n",
    "    for lag in range(1, max_lag + 1):\n",
    "        df['lag_{}'.format(lag)] = df['NO'].shift(lag)\n",
    "\n",
    "    df['rolling_mean'] = df['NO'].shift().rolling(rolling_mean_size).mean()"
   ]
  },
  {
   "cell_type": "code",
   "execution_count": 12,
   "id": "415402db",
   "metadata": {},
   "outputs": [],
   "source": [
    "df_CO = df.copy()\n",
    "df_NO2 = df.copy()\n",
    "df_NO = df.copy()"
   ]
  },
  {
   "cell_type": "code",
   "execution_count": 13,
   "id": "3fbbbd16",
   "metadata": {},
   "outputs": [],
   "source": [
    "#поскольку прогнозируем на сутки вперед и выполнили ресемплирование до часа, то значение lag выберем 24\n",
    "make_features_CO(df_CO, 24, 24)\n",
    "make_features_NO2(df_NO2, 24, 24)\n",
    "make_features_NO(df_NO, 24, 24)"
   ]
  },
  {
   "cell_type": "code",
   "execution_count": 14,
   "id": "c9d2e84e",
   "metadata": {},
   "outputs": [],
   "source": [
    "#разделение выборки на обучающую, валидационную, тестовую для CO\n",
    "train_CO, test_CO = train_test_split(df_CO, shuffle=False, test_size=0.1)\n",
    "train_result_CO, valid_CO = train_test_split(train_CO, shuffle=False, test_size=0.1)\n",
    "train_result_CO = train_result_CO.dropna()\n",
    "valid_CO = valid_CO.dropna()\n",
    "test_CO = test_CO.dropna()"
   ]
  },
  {
   "cell_type": "code",
   "execution_count": 15,
   "id": "29d74b46",
   "metadata": {},
   "outputs": [],
   "source": [
    "#разделение выборки на обучающую, валидационную, тестовую для NO2\n",
    "train_NO2, test_NO2 = train_test_split(df_NO2, shuffle=False, test_size=0.1)\n",
    "train_result_NO2, valid_NO2 = train_test_split(train_NO2, shuffle=False, test_size=0.1)\n",
    "train_result_NO2 = train_result_NO2.dropna()\n",
    "valid_NO2 = valid_NO2.dropna()\n",
    "test_NO2 = test_NO2.dropna()"
   ]
  },
  {
   "cell_type": "code",
   "execution_count": 16,
   "id": "d0051203",
   "metadata": {},
   "outputs": [],
   "source": [
    "#разделение выборки на обучающую, валидационную, тестовую для NO\n",
    "train_NO, test_NO = train_test_split(df_NO, shuffle=False, test_size=0.1)\n",
    "train_result_NO, valid_NO = train_test_split(train_NO, shuffle=False, test_size=0.1)\n",
    "train_result_NO = train_result_NO.dropna()\n",
    "valid_NO = valid_NO.dropna()\n",
    "test_NO = test_NO.dropna()"
   ]
  },
  {
   "cell_type": "code",
   "execution_count": 17,
   "id": "450345ea",
   "metadata": {},
   "outputs": [],
   "source": [
    "#выделение целевого признака для CO\n",
    "X_train_CO = train_result_CO.drop(['CO', 'NO2', 'NO','PM10', 'PM25', 'V2', 'Pressure'], axis=1)\n",
    "y_train_CO = train_result_CO['CO']\n",
    "X_test_CO = test_CO.drop(['CO', 'NO2', 'NO', 'PM10','PM25', 'V2', 'Pressure'], axis=1) \n",
    "y_test_CO = test_CO['CO']\n",
    "X_valid_CO = valid_CO.drop(['CO', 'NO2', 'NO', 'PM10','PM25', 'V2', 'Pressure'], axis=1) \n",
    "y_valid_CO = valid_CO['CO']"
   ]
  },
  {
   "cell_type": "code",
   "execution_count": 18,
   "id": "537ebe1e",
   "metadata": {},
   "outputs": [],
   "source": [
    "#выделение целевого признака для NO2\n",
    "X_train_NO2 = train_result_NO2.drop(['CO', 'NO2', 'NO', 'PM10', 'PM25', 'V2', 'Pressure'], axis=1)\n",
    "y_train_NO2 = train_result_NO2['NO2']\n",
    "X_test_NO2 = test_NO2.drop(['CO', 'NO2', 'NO', 'PM10','PM25', 'V2', 'Pressure'], axis=1) \n",
    "y_test_NO2 = test_NO2['NO2']\n",
    "X_valid_NO2 = valid_NO2.drop(['CO', 'NO2', 'NO', 'PM10','PM25', 'V2','Pressure'], axis=1) \n",
    "y_valid_NO2 = valid_NO2['NO2']"
   ]
  },
  {
   "cell_type": "code",
   "execution_count": 19,
   "id": "15c735c9",
   "metadata": {},
   "outputs": [],
   "source": [
    "#выделение целевого признака для NO\n",
    "X_train_NO = train_result_NO.drop(['CO', 'NO2', 'NO', 'PM10','PM25', 'V2',  'Pressure'], axis=1)\n",
    "y_train_NO = train_result_NO['NO']\n",
    "X_test_NO = test_NO.drop(['CO', 'NO2', 'NO', 'PM10','PM25', 'V2',  'Pressure'], axis=1) \n",
    "y_test_NO = test_NO['NO']\n",
    "X_valid_NO = valid_NO.drop(['CO', 'NO2', 'NO','PM10','PM25', 'V2', 'Pressure'], axis=1) \n",
    "y_valid_NO = valid_NO['NO']"
   ]
  },
  {
   "cell_type": "code",
   "execution_count": 20,
   "id": "adda3dfb",
   "metadata": {},
   "outputs": [],
   "source": [
    "#масштабирование признаков перед обучением\n",
    "scaler = StandardScaler()\n",
    "scaler.fit(X_train_CO) \n",
    "X_train_CO = scaler.transform(X_train_CO)\n",
    "X_test_CO = scaler.transform(X_test_CO) \n",
    "X_valid_CO = scaler.transform(X_valid_CO)\n",
    "\n",
    "X_train_NO2 = scaler.transform(X_train_NO2)\n",
    "X_test_NO2 = scaler.transform(X_test_NO2) \n",
    "X_valid_NO2 = scaler.transform(X_valid_NO2)\n",
    "\n",
    "X_train_NO = scaler.transform(X_train_NO)\n",
    "X_test_NO = scaler.transform(X_test_NO) \n",
    "X_valid_NO = scaler.transform(X_valid_NO)\n",
    "\n",
    "pd.options.mode.chained_assignment = None"
   ]
  },
  {
   "cell_type": "markdown",
   "id": "1c081c7d",
   "metadata": {},
   "source": [
    "## Обучение модели и анализ точности"
   ]
  },
  {
   "cell_type": "code",
   "execution_count": 21,
   "id": "3fb0cccb",
   "metadata": {},
   "outputs": [
    {
     "name": "stdout",
     "output_type": "stream",
     "text": [
      "MAE наилучшей модели на валидационной выборке: 0.0387149380833633 Количество деревьев: 21 Максимальная глубина: 24\n"
     ]
    }
   ],
   "source": [
    "#подбор гиперпараметров для прогноза CO на основе алгоритма RandomForestRegressor\n",
    "best_model = None\n",
    "best_result = 100\n",
    "best_est = 0\n",
    "best_depth = 0\n",
    "for est in range(1, 60, 10):\n",
    "    for depth in range (1, 25):\n",
    "        model = RandomForestRegressor(random_state=12345, n_estimators=est, max_depth=depth) \n",
    "        model.fit(X_train_CO, y_train_CO) \n",
    "        predictions_valid_CO = model.predict(X_valid_CO) \n",
    "        result = mean_absolute_error(y_valid_CO, predictions_valid_CO) \n",
    "        if result < best_result:\n",
    "            best_model = model\n",
    "            best_result = result\n",
    "            best_est = est\n",
    "            best_depth = depth\n",
    "\n",
    "print(\"MAE наилучшей модели на валидационной выборке:\", best_result, \"Количество деревьев:\", best_est, \n",
    "      \"Максимальная глубина:\", depth)"
   ]
  },
  {
   "cell_type": "code",
   "execution_count": 22,
   "id": "1a9f6bbd",
   "metadata": {},
   "outputs": [
    {
     "name": "stdout",
     "output_type": "stream",
     "text": [
      "Значение MAE тестовой выборки:  0.04531754904814345\n"
     ]
    }
   ],
   "source": [
    "#обучение RandomForestRegressor с установленными гиперпараметрами\n",
    "\n",
    "model_RF_CO = RandomForestRegressor(random_state=12345, n_estimators=21, max_depth=24) \n",
    "model_RF_CO.fit(X_train_CO, y_train_CO) \n",
    "predictions_test_RF_CO = model_RF_CO.predict(X_test_CO) \n",
    "\n",
    "print(\"Значение MAE тестовой выборки: \", mean_absolute_error(y_test_CO, predictions_test_RF_CO))"
   ]
  },
  {
   "cell_type": "code",
   "execution_count": 23,
   "id": "5e3ed2a2",
   "metadata": {},
   "outputs": [
    {
     "name": "stdout",
     "output_type": "stream",
     "text": [
      "MAE наилучшей модели на валидационной выборке: 0.002346580539059592 Количество деревьев: 21 Максимальная глубина: 24\n"
     ]
    }
   ],
   "source": [
    "#подбор гиперпараметров для прогноза NO2 на основе алгоритма RandomForestRegressor\n",
    "\n",
    "best_model = None\n",
    "best_result = 100\n",
    "best_est = 0\n",
    "best_depth = 0\n",
    "for est in range(1, 60, 10):\n",
    "    for depth in range (1, 25):\n",
    "        model = RandomForestRegressor(random_state=12345, n_estimators=est, max_depth=depth) \n",
    "        model.fit(X_train_NO2, y_train_NO2) \n",
    "        predictions_valid_NO2 = model.predict(X_valid_NO2) \n",
    "        result = mean_absolute_error(y_valid_NO2, predictions_valid_NO2)\n",
    "        if result < best_result:\n",
    "            best_model = model\n",
    "            best_result = result\n",
    "            best_est = est\n",
    "            best_depth = depth\n",
    "\n",
    "print(\"MAE наилучшей модели на валидационной выборке:\", best_result, \"Количество деревьев:\", best_est, \n",
    "      \"Максимальная глубина:\", depth)"
   ]
  },
  {
   "cell_type": "code",
   "execution_count": 24,
   "id": "46f065dd",
   "metadata": {},
   "outputs": [
    {
     "name": "stdout",
     "output_type": "stream",
     "text": [
      "Значение MAE тестовой выборки:  0.0025673546481636165\n"
     ]
    }
   ],
   "source": [
    "model_RF_NO2 = RandomForestRegressor(random_state=12345, n_estimators=41, max_depth=24) \n",
    "model_RF_NO2.fit(X_train_NO2, y_train_NO2) \n",
    "predictions_test_RF_NO2 = model_RF_NO2.predict(X_test_NO2) \n",
    "\n",
    "print(\"Значение MAE тестовой выборки: \", mean_absolute_error(y_test_NO2, predictions_test_RF_NO2))"
   ]
  },
  {
   "cell_type": "code",
   "execution_count": 25,
   "id": "20582945",
   "metadata": {},
   "outputs": [
    {
     "name": "stdout",
     "output_type": "stream",
     "text": [
      "MAE наилучшей модели на валидационной выборке: 0.005908703286800824 Количество деревьев: 21 Максимальная глубина: 24\n"
     ]
    }
   ],
   "source": [
    "#подбор гиперпараметров для прогноза NO на основе алгоритма RandomForestRegressor\n",
    "\n",
    "best_model = None\n",
    "best_result = 100\n",
    "best_est = 0\n",
    "best_depth = 0\n",
    "for est in range(1, 60, 10):\n",
    "    for depth in range (1, 25):\n",
    "        model = RandomForestRegressor(random_state=12345, n_estimators=est, max_depth=depth) \n",
    "        model.fit(X_train_NO, y_train_NO) \n",
    "        predictions_valid_NO = model.predict(X_valid_NO) \n",
    "        result = mean_absolute_error(y_valid_NO, predictions_valid_NO)\n",
    "        if result < best_result:\n",
    "            best_model = model\n",
    "            best_result = result\n",
    "            best_est = est\n",
    "            best_depth = depth\n",
    "\n",
    "print(\"MAE наилучшей модели на валидационной выборке:\", best_result, \"Количество деревьев:\", best_est, \n",
    "      \"Максимальная глубина:\", depth)"
   ]
  },
  {
   "cell_type": "code",
   "execution_count": 26,
   "id": "6d2aa8c0",
   "metadata": {},
   "outputs": [
    {
     "name": "stdout",
     "output_type": "stream",
     "text": [
      "Значение MAE тестовой выборки:  0.004244767920635733\n"
     ]
    }
   ],
   "source": [
    "model_RF_NO = RandomForestRegressor(random_state=12345, n_estimators=21, max_depth=24) \n",
    "model_RF_NO.fit(X_train_NO, y_train_NO) \n",
    "predictions_test_RF_NO = model_RF_NO.predict(X_test_NO) \n",
    "\n",
    "print(\"Значение MAE тестовой выборки: \", mean_absolute_error(y_test_NO, predictions_test_RF_NO))"
   ]
  },
  {
   "cell_type": "markdown",
   "id": "c4fb72ec",
   "metadata": {},
   "source": [
    "## Оформление результатов предсказаний в итоговый dataframe"
   ]
  },
  {
   "cell_type": "code",
   "execution_count": 27,
   "id": "f96bb5d3",
   "metadata": {},
   "outputs": [],
   "source": [
    "CO_pred = pd.DataFrame(predictions_test_RF_CO)\n",
    "CO_y = pd.DataFrame(y_test_CO)\n",
    "CO_y['Datetime'] = CO_y.index\n",
    "CO_y = CO_y.reset_index(drop = True)\n",
    "CO = pd.concat([CO_pred, CO_y], axis =1 )\n",
    "CO.columns = ['CO_pr', 'CO_fact', 'Datetime']\n",
    "CO_result = CO.drop(['CO_fact'], axis = 1)"
   ]
  },
  {
   "cell_type": "code",
   "execution_count": 28,
   "id": "cbb25d18",
   "metadata": {},
   "outputs": [],
   "source": [
    "NO2_pred = pd.DataFrame(predictions_test_RF_NO2)\n",
    "NO2_y = pd.DataFrame(y_test_NO2)\n",
    "NO2_y['Datetime'] = NO2_y.index\n",
    "NO2_y = NO2_y.reset_index(drop = True)\n",
    "NO2 = pd.concat([NO2_pred, NO2_y], axis =1 )\n",
    "NO2.columns = ['NO2_pr', 'NO2_fact', 'Datetime']\n",
    "NO2_result = NO2.drop(['NO2_fact'], axis = 1)"
   ]
  },
  {
   "cell_type": "code",
   "execution_count": 29,
   "id": "c4e19607",
   "metadata": {},
   "outputs": [],
   "source": [
    "NO_pred = pd.DataFrame(predictions_test_RF_NO)\n",
    "NO_y = pd.DataFrame(y_test_NO)\n",
    "NO_y['Datetime'] = NO_y.index\n",
    "NO_y = NO_y.reset_index(drop = True)\n",
    "NO = pd.concat([NO_pred, NO_y], axis =1 )\n",
    "NO.columns = ['NO_pr', 'NO_fact', 'Datetime']\n",
    "NO_result = NO.drop(['NO_fact'], axis = 1)"
   ]
  }
 ],
 "metadata": {
  "kernelspec": {
   "display_name": "Python 3",
   "language": "python",
   "name": "python3"
  },
  "language_info": {
   "codemirror_mode": {
    "name": "ipython",
    "version": 3
   },
   "file_extension": ".py",
   "mimetype": "text/x-python",
   "name": "python",
   "nbconvert_exporter": "python",
   "pygments_lexer": "ipython3",
   "version": "3.8.8"
  }
 },
 "nbformat": 4,
 "nbformat_minor": 5
}
